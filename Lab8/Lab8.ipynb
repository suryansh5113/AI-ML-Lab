{
 "cells": [
  {
   "cell_type": "markdown",
   "id": "29f4c1f8-ea94-4a98-8ed9-06a2f7ee22f1",
   "metadata": {},
   "source": [
    "# Step 1"
   ]
  },
  {
   "cell_type": "code",
   "execution_count": 6,
   "id": "50a29e90-349b-4edf-9bdf-d9dbdb9bdd61",
   "metadata": {},
   "outputs": [
    {
     "name": "stdout",
     "output_type": "stream",
     "text": [
      "   Temperature Humidity  Windy Play Football\n",
      "0          Hot   Normal  False            No\n",
      "1         Mild     High   True            No\n",
      "2         Cool     High  False           Yes\n",
      "3         Mild     High  False           Yes\n",
      "4         Cool   Normal  False           Yes\n",
      "5         Cool   Normal   True            No\n",
      "6         Cool   Normal  False           Yes\n",
      "7         Mild     High  False           Yes\n",
      "8         Cool   Normal  False            No\n",
      "9         Cool   Normal  False           Yes\n",
      "10        Mild   Normal   True           Yes\n",
      "11        Mild     High   True           Yes\n",
      "12         Hot   Normal  False            No\n",
      "13        Cool   Normal  False            No\n"
     ]
    }
   ],
   "source": [
    "import pandas as pd\n",
    "\n",
    "data = {\n",
    "    'Temperature': ['Hot', 'Mild', 'Cool', 'Mild', 'Cool', 'Cool', 'Cool', 'Mild', 'Cool', 'Cool', 'Mild', 'Mild', 'Hot', 'Cool'],\n",
    "    'Humidity': ['Normal', 'High', 'High', 'High', 'Normal', 'Normal', 'Normal', 'High', 'Normal', 'Normal', 'Normal', 'High', 'Normal', 'Normal'],\n",
    "    'Windy': [False, True, False, False, False, True, False, False, False, False, True, True, False, False],\n",
    "    'Play Football': ['No', 'No', 'Yes', 'Yes', 'Yes', 'No', 'Yes', 'Yes', 'No', 'Yes', 'Yes', 'Yes', 'No', 'No']\n",
    "}\n",
    "\n",
    "df = pd.DataFrame(data)\n",
    "print(df)"
   ]
  },
  {
   "cell_type": "markdown",
   "id": "be99bc3f-e29c-4fa2-9bb2-087a3a370395",
   "metadata": {},
   "source": [
    "# Step 2"
   ]
  },
  {
   "cell_type": "code",
   "execution_count": 8,
   "id": "2f9fc66c-3e09-4a24-8b79-b029e2111b60",
   "metadata": {},
   "outputs": [
    {
     "name": "stdout",
     "output_type": "stream",
     "text": [
      "Shape of the dataset: (14, 4)\n"
     ]
    }
   ],
   "source": [
    "print(\"Shape of the dataset:\", df.shape)\n"
   ]
  },
  {
   "cell_type": "markdown",
   "id": "9e778a2f-6855-42dc-a281-535901e2115d",
   "metadata": {},
   "source": [
    "# Step 3"
   ]
  },
  {
   "cell_type": "code",
   "execution_count": 10,
   "id": "1459f448-9e51-499a-9087-12a8b8547fff",
   "metadata": {},
   "outputs": [
    {
     "name": "stdout",
     "output_type": "stream",
     "text": [
      "Play Football  Temperature  Humidity  Windy  Play Football\n",
      "No             Cool         Normal    False  No               2\n",
      "               Hot          Normal    False  No               2\n",
      "               Cool         Normal    True   No               1\n",
      "               Mild         High      True   No               1\n",
      "Yes            Cool         Normal    False  Yes              3\n",
      "               Mild         High      False  Yes              2\n",
      "               Cool         High      False  Yes              1\n",
      "               Mild         High      True   Yes              1\n",
      "                            Normal    True   Yes              1\n",
      "Name: count, dtype: int64\n"
     ]
    },
    {
     "name": "stderr",
     "output_type": "stream",
     "text": [
      "/var/folders/vb/t5jx148n6dg30q5t4vnpj7lw0000gn/T/ipykernel_91219/3890660651.py:1: DeprecationWarning: DataFrameGroupBy.apply operated on the grouping columns. This behavior is deprecated, and in a future version of pandas the grouping columns will be excluded from the operation. Either pass `include_groups=False` to exclude the groupings or explicitly select the grouping columns after groupby to silence this warning.\n",
      "  frequency_table = df.groupby('Play Football').apply(lambda x: x.value_counts())\n"
     ]
    }
   ],
   "source": [
    "frequency_table = df.groupby('Play Football').apply(lambda x: x.value_counts())\n",
    "print(frequency_table)"
   ]
  },
  {
   "cell_type": "markdown",
   "id": "5cfb4813-5d1d-4843-b1d5-2899f5da30ff",
   "metadata": {},
   "source": [
    "# Step 4"
   ]
  },
  {
   "cell_type": "code",
   "execution_count": 12,
   "id": "05f6c02f-67ba-4556-b32c-bfb5976db4c7",
   "metadata": {},
   "outputs": [
    {
     "name": "stdout",
     "output_type": "stream",
     "text": [
      "Likelihood table for Play Football = Yes: {'Temperature': {'Hot': 0.0, 'Mild': 0.5, 'Cool': 0.5}, 'Humidity': {'Normal': 0.5, 'High': 0.5}, 'Windy': {False: 0.75, True: 0.25}}\n",
      "Likelihood table for Play Football = No: {'Temperature': {'Hot': 0.3333333333333333, 'Mild': 0.16666666666666666, 'Cool': 0.5}, 'Humidity': {'Normal': 0.8333333333333334, 'High': 0.16666666666666666}, 'Windy': {False: 0.6666666666666666, True: 0.3333333333333333}}\n"
     ]
    }
   ],
   "source": [
    "play_yes = df[df['Play Football'] == 'Yes']\n",
    "play_no = df[df['Play Football'] == 'No']\n",
    "\n",
    "def calculate_likelihood(feature, value, target):\n",
    "    total = len(df[df['Play Football'] == target])\n",
    "    return len(df[(df[feature] == value) & (df['Play Football'] == target)]) / total\n",
    "\n",
    "likelihood_yes = {\n",
    "    'Temperature': {temp: calculate_likelihood('Temperature', temp, 'Yes') for temp in df['Temperature'].unique()},\n",
    "    'Humidity': {hum: calculate_likelihood('Humidity', hum, 'Yes') for hum in df['Humidity'].unique()},\n",
    "    'Windy': {wind: calculate_likelihood('Windy', wind, 'Yes') for wind in df['Windy'].unique()}\n",
    "}\n",
    "\n",
    "likelihood_no = {\n",
    "    'Temperature': {temp: calculate_likelihood('Temperature', temp, 'No') for temp in df['Temperature'].unique()},\n",
    "    'Humidity': {hum: calculate_likelihood('Humidity', hum, 'No') for hum in df['Humidity'].unique()},\n",
    "    'Windy': {wind: calculate_likelihood('Windy', wind, 'No') for wind in df['Windy'].unique()}\n",
    "}\n",
    "\n",
    "print(\"Likelihood table for Play Football = Yes:\", likelihood_yes)\n",
    "print(\"Likelihood table for Play Football = No:\", likelihood_no)"
   ]
  },
  {
   "cell_type": "markdown",
   "id": "14e628ca-bdb3-4b65-af97-adebf4f092de",
   "metadata": {},
   "source": [
    "# Step 6"
   ]
  },
  {
   "cell_type": "code",
   "execution_count": 14,
   "id": "244c8162-9de2-4899-a62b-b51f8fc973e6",
   "metadata": {},
   "outputs": [
    {
     "name": "stdout",
     "output_type": "stream",
     "text": [
      "Predicted outcome: No\n"
     ]
    }
   ],
   "source": [
    "def naive_bayes_predict(temp, humidity, windy):\n",
    "    \n",
    "    prior_yes = len(play_yes) / len(df)\n",
    "    prior_no = len(play_no) / len(df)\n",
    "    \n",
    "    likelihood_yes_value = (likelihood_yes['Temperature'][temp] * \n",
    "                            likelihood_yes['Humidity'][humidity] * \n",
    "                            likelihood_yes['Windy'][windy])\n",
    "    \n",
    "    likelihood_no_value = (likelihood_no['Temperature'][temp] * \n",
    "                           likelihood_no['Humidity'][humidity] * \n",
    "                           likelihood_no['Windy'][windy])\n",
    "    \n",
    "    posterior_yes = likelihood_yes_value * prior_yes\n",
    "    posterior_no = likelihood_no_value * prior_no\n",
    "    \n",
    "    if posterior_yes > posterior_no:\n",
    "        return \"Yes\"\n",
    "    else:\n",
    "        return \"No\"\n",
    "\n",
    "prediction = naive_bayes_predict('Cool', 'Normal', False)\n",
    "print(\"Predicted outcome:\", prediction)"
   ]
  }
 ],
 "metadata": {
  "kernelspec": {
   "display_name": "Python 3 (ipykernel)",
   "language": "python",
   "name": "python3"
  },
  "language_info": {
   "codemirror_mode": {
    "name": "ipython",
    "version": 3
   },
   "file_extension": ".py",
   "mimetype": "text/x-python",
   "name": "python",
   "nbconvert_exporter": "python",
   "pygments_lexer": "ipython3",
   "version": "3.12.4"
  }
 },
 "nbformat": 4,
 "nbformat_minor": 5
}
