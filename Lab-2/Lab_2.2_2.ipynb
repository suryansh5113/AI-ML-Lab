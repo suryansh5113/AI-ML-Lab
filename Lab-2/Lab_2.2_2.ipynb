{
 "cells": [
  {
   "cell_type": "markdown",
   "id": "f70bcf38-06b6-4905-b98c-6ba5b9a8d410",
   "metadata": {},
   "source": [
    "# Lab 2.2_2"
   ]
  },
  {
   "cell_type": "markdown",
   "id": "075def55-9317-4492-a035-2888f6ad814a",
   "metadata": {},
   "source": [
    "## Ques 1"
   ]
  },
  {
   "cell_type": "code",
   "execution_count": 3,
   "id": "28acabf9-1bf1-40ea-85cf-d7699340ae0e",
   "metadata": {},
   "outputs": [],
   "source": [
    "import pandas as pd\n",
    "import numpy as np\n",
    "import matplotlib.pyplot as plt\n",
    "df = pd.read_csv('/Users/anantagarwal/Desktop/AI&ML Lab/Lab_2/headbrain.csv')"
   ]
  },
  {
   "cell_type": "markdown",
   "id": "566458f4-197f-42e1-a530-72627e7e9e39",
   "metadata": {},
   "source": [
    "## Ques 2"
   ]
  },
  {
   "cell_type": "code",
   "execution_count": 6,
   "id": "a0349a98-ebb2-4d09-8018-8ff88b1c995a",
   "metadata": {},
   "outputs": [],
   "source": [
    "XY = df.iloc[:, -2:]"
   ]
  },
  {
   "cell_type": "markdown",
   "id": "049c0c8d-5814-4488-8cce-37aeb70a1595",
   "metadata": {},
   "source": [
    "## Ques 3"
   ]
  },
  {
   "cell_type": "code",
   "execution_count": 9,
   "id": "8751a2de-0886-49e9-86cd-c85a4eb88769",
   "metadata": {},
   "outputs": [
    {
     "name": "stdout",
     "output_type": "stream",
     "text": [
      "Statistical values of XY:\n",
      "       Head Size(cm^3)  Brain Weight(grams)\n",
      "count       237.000000           237.000000\n",
      "mean       3633.991561          1282.873418\n",
      "std         365.261422           120.340446\n",
      "min        2720.000000           955.000000\n",
      "25%        3389.000000          1207.000000\n",
      "50%        3614.000000          1280.000000\n",
      "75%        3876.000000          1350.000000\n",
      "max        4747.000000          1635.000000\n"
     ]
    }
   ],
   "source": [
    "print(\"Statistical values of XY:\")\n",
    "print(XY.describe())"
   ]
  },
  {
   "cell_type": "markdown",
   "id": "b8c170cf-f7f9-4768-b73e-f2575fcc830d",
   "metadata": {},
   "source": [
    "## Ques 4"
   ]
  },
  {
   "cell_type": "code",
   "execution_count": 17,
   "id": "d38c5ad6-17eb-41fc-ad7f-f85c1bd6256d",
   "metadata": {},
   "outputs": [
    {
     "name": "stdout",
     "output_type": "stream",
     "text": [
      "Shape of X: (237, 1)\n",
      "Shape of Y: (237, 1)\n"
     ]
    }
   ],
   "source": [
    "X = XY.iloc[:, 0].values.reshape(-1, 1)  \n",
    "Y = XY.iloc[:, 1].values.reshape(-1, 1)  \n",
    "print(f\"Shape of X: {X.shape}\")\n",
    "print(f\"Shape of Y: {Y.shape}\")"
   ]
  },
  {
   "cell_type": "markdown",
   "id": "147c5d6c-d3b1-4534-bbba-b42e14048bbe",
   "metadata": {},
   "source": [
    "## Ques 5"
   ]
  },
  {
   "cell_type": "code",
   "execution_count": 19,
   "id": "46725893-0ef1-458d-bf1f-ee8d38074f8e",
   "metadata": {},
   "outputs": [
    {
     "name": "stdout",
     "output_type": "stream",
     "text": [
      "Mean of X (Head Size): 3633.9915611814345\n",
      "Mean of Y (Brain Weight): 1282.873417721519\n"
     ]
    }
   ],
   "source": [
    "mean_X = np.mean(X)\n",
    "mean_Y = np.mean(Y)\n",
    "print(f\"Mean of X (Head Size): {mean_X}\")\n",
    "print(f\"Mean of Y (Brain Weight): {mean_Y}\")"
   ]
  },
  {
   "cell_type": "markdown",
   "id": "49d33a8e-6378-48ce-bfec-5934aadeb108",
   "metadata": {},
   "source": [
    "## Ques 6"
   ]
  },
  {
   "cell_type": "code",
   "execution_count": 22,
   "id": "8f3b3406-f58b-447e-bfbe-a4c0dbc1c94c",
   "metadata": {},
   "outputs": [],
   "source": [
    "def linear_regression(X, Y):\n",
    "    n = len(X)\n",
    "    \n",
    "    # Calculate the cross-deviation and deviation about X\n",
    "    SS_xy = np.sum(Y * X) - n * mean_Y * mean_X\n",
    "    SS_xx = np.sum(X * X) - n * mean_X * mean_X\n",
    "    \n",
    "    # Calculate regression coefficients\n",
    "    b1 = SS_xy / SS_xx\n",
    "    b0 = mean_Y - b1 * mean_X\n",
    "    \n",
    "    return b1, b0"
   ]
  },
  {
   "cell_type": "code",
   "execution_count": 24,
   "id": "9e5ff119-08ea-4105-80e1-10fddb9524aa",
   "metadata": {},
   "outputs": [],
   "source": [
    "b1, b0 = linear_regression(X, Y)"
   ]
  },
  {
   "cell_type": "code",
   "execution_count": 26,
   "id": "56ca87d9-3d05-481c-95ef-fb1428d4e662",
   "metadata": {},
   "outputs": [
    {
     "name": "stdout",
     "output_type": "stream",
     "text": [
      "Coefficient (b1): 0.2634293394894003\n",
      "Intercept (b0): 325.57342104943916\n"
     ]
    }
   ],
   "source": [
    "print(f\"Coefficient (b1): {b1}\")\n",
    "print(f\"Intercept (b0): {b0}\")"
   ]
  },
  {
   "cell_type": "code",
   "execution_count": 28,
   "id": "be37da95-0bd3-4fec-8740-7adaaa38bddf",
   "metadata": {},
   "outputs": [],
   "source": [
    "Y_predicted = b0 + b1 * X"
   ]
  },
  {
   "cell_type": "code",
   "execution_count": 30,
   "id": "b0c0f457-e97e-49f9-9fb4-5b22b1ae3d56",
   "metadata": {},
   "outputs": [],
   "source": [
    "def root_mean_squared_error(Y, Y_predicted):\n",
    "    return np.sqrt(np.mean((Y - Y_predicted) ** 2))"
   ]
  },
  {
   "cell_type": "code",
   "execution_count": 32,
   "id": "339fba98-a291-4eb6-9482-8b1260af9490",
   "metadata": {},
   "outputs": [
    {
     "name": "stdout",
     "output_type": "stream",
     "text": [
      "Root Mean Squared Error: 72.1206213783709\n"
     ]
    }
   ],
   "source": [
    "rmse = root_mean_squared_error(Y, Y_predicted)\n",
    "print(f\"Root Mean Squared Error: {rmse}\")"
   ]
  },
  {
   "cell_type": "code",
   "execution_count": 34,
   "id": "e123ed06-4ba8-4068-9793-eb786068d454",
   "metadata": {},
   "outputs": [],
   "source": [
    "def r2_score(Y, Y_predicted):\n",
    "    SS_total = np.sum((Y - mean_Y) ** 2)\n",
    "    SS_residual = np.sum((Y - Y_predicted) ** 2)\n",
    "    r2 = 1 - (SS_residual / SS_total)\n",
    "    return r2"
   ]
  },
  {
   "cell_type": "code",
   "execution_count": 36,
   "id": "8644c138-4249-4228-b542-9e3bb193dd1a",
   "metadata": {},
   "outputs": [
    {
     "name": "stdout",
     "output_type": "stream",
     "text": [
      "R2 Score: 0.6393117199570002\n"
     ]
    }
   ],
   "source": [
    "r2 = r2_score(Y, Y_predicted)\n",
    "print(f\"R2 Score: {r2}\")"
   ]
  },
  {
   "cell_type": "code",
   "execution_count": 38,
   "id": "b7834367-e9b4-4834-acd6-eeb00365c156",
   "metadata": {},
   "outputs": [
    {
     "data": {
      "image/png": "[encoded data removed]",
      "text/plain": [
       "<Figure size 640x480 with 1 Axes>"
      ]
     },
     "metadata": {},
     "output_type": "display_data"
    }
   ],
   "source": [
    "plt.scatter(X, Y, color='blue', label='Actual data points')\n",
    "plt.plot(X, Y_predicted, color='red', label='Regression line')\n",
    "plt.xlabel('Head Size (cm3)')\n",
    "plt.ylabel('Brain Weight (grams)')\n",
    "plt.title('Linear Regression')\n",
    "plt.legend()\n",
    "plt.show()"
   ]
  },
  {
   "cell_type": "code",
   "execution_count": null,
   "id": "b69d8a5e-a065-43a6-b1e8-b1f72e6a8d79",
   "metadata": {},
   "outputs": [],
   "source": []
  }
 ],
 "metadata": {
  "kernelspec": {
   "display_name": "Python 3 (ipykernel)",
   "language": "python",
   "name": "python3"
  },
  "language_info": {
   "codemirror_mode": {
    "name": "ipython",
    "version": 3
   },
   "file_extension": ".py",
   "mimetype": "text/x-python",
   "name": "python",
   "nbconvert_exporter": "python",
   "pygments_lexer": "ipython3",
   "version": "3.12.4"
  }
 },
 "nbformat": 4,
 "nbformat_minor": 5
}
