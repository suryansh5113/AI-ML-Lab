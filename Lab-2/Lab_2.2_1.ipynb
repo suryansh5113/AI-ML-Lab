{
 "cells": [
  {
   "cell_type": "markdown",
   "id": "840f586b-abea-4dc1-b54b-f5100f05a5aa",
   "metadata": {},
   "source": [
    "# Lab 2.2_1"
   ]
  },
  {
   "cell_type": "markdown",
   "id": "6658f7fc-958a-40c0-b765-d705ca84e42f",
   "metadata": {},
   "source": [
    "## Ques 1"
   ]
  },
  {
   "cell_type": "code",
   "execution_count": 7,
   "id": "ec53ade9-55fe-43bc-89d7-5dfb4afad3a4",
   "metadata": {},
   "outputs": [
    {
     "data": {
      "text/html": [
       "<div>\n",
       "<style scoped>\n",
       "    .dataframe tbody tr th:only-of-type {\n",
       "        vertical-align: middle;\n",
       "    }\n",
       "\n",
       "    .dataframe tbody tr th {\n",
       "        vertical-align: top;\n",
       "    }\n",
       "\n",
       "    .dataframe thead th {\n",
       "        text-align: right;\n",
       "    }\n",
       "</style>\n",
       "<table border=\"1\" class=\"dataframe\">\n",
       "  <thead>\n",
       "    <tr style=\"text-align: right;\">\n",
       "      <th></th>\n",
       "      <th>school</th>\n",
       "      <th>sex</th>\n",
       "      <th>age</th>\n",
       "      <th>address</th>\n",
       "      <th>famsize</th>\n",
       "      <th>Pstatus</th>\n",
       "      <th>Medu</th>\n",
       "      <th>Fedu</th>\n",
       "      <th>Mjob</th>\n",
       "      <th>Fjob</th>\n",
       "      <th>...</th>\n",
       "      <th>famrel</th>\n",
       "      <th>freetime</th>\n",
       "      <th>goout</th>\n",
       "      <th>Dalc</th>\n",
       "      <th>Walc</th>\n",
       "      <th>health</th>\n",
       "      <th>absences</th>\n",
       "      <th>G1</th>\n",
       "      <th>G2</th>\n",
       "      <th>G3</th>\n",
       "    </tr>\n",
       "  </thead>\n",
       "  <tbody>\n",
       "    <tr>\n",
       "      <th>0</th>\n",
       "      <td>GP</td>\n",
       "      <td>F</td>\n",
       "      <td>18</td>\n",
       "      <td>U</td>\n",
       "      <td>GT3</td>\n",
       "      <td>A</td>\n",
       "      <td>4</td>\n",
       "      <td>4</td>\n",
       "      <td>at_home</td>\n",
       "      <td>teacher</td>\n",
       "      <td>...</td>\n",
       "      <td>4</td>\n",
       "      <td>3</td>\n",
       "      <td>4</td>\n",
       "      <td>1</td>\n",
       "      <td>1</td>\n",
       "      <td>3</td>\n",
       "      <td>6</td>\n",
       "      <td>5</td>\n",
       "      <td>6</td>\n",
       "      <td>6</td>\n",
       "    </tr>\n",
       "    <tr>\n",
       "      <th>1</th>\n",
       "      <td>GP</td>\n",
       "      <td>F</td>\n",
       "      <td>17</td>\n",
       "      <td>U</td>\n",
       "      <td>GT3</td>\n",
       "      <td>T</td>\n",
       "      <td>1</td>\n",
       "      <td>1</td>\n",
       "      <td>at_home</td>\n",
       "      <td>other</td>\n",
       "      <td>...</td>\n",
       "      <td>5</td>\n",
       "      <td>3</td>\n",
       "      <td>3</td>\n",
       "      <td>1</td>\n",
       "      <td>1</td>\n",
       "      <td>3</td>\n",
       "      <td>4</td>\n",
       "      <td>5</td>\n",
       "      <td>5</td>\n",
       "      <td>6</td>\n",
       "    </tr>\n",
       "    <tr>\n",
       "      <th>2</th>\n",
       "      <td>GP</td>\n",
       "      <td>F</td>\n",
       "      <td>15</td>\n",
       "      <td>U</td>\n",
       "      <td>LE3</td>\n",
       "      <td>T</td>\n",
       "      <td>1</td>\n",
       "      <td>1</td>\n",
       "      <td>at_home</td>\n",
       "      <td>other</td>\n",
       "      <td>...</td>\n",
       "      <td>4</td>\n",
       "      <td>3</td>\n",
       "      <td>2</td>\n",
       "      <td>2</td>\n",
       "      <td>3</td>\n",
       "      <td>3</td>\n",
       "      <td>10</td>\n",
       "      <td>7</td>\n",
       "      <td>8</td>\n",
       "      <td>10</td>\n",
       "    </tr>\n",
       "    <tr>\n",
       "      <th>3</th>\n",
       "      <td>GP</td>\n",
       "      <td>F</td>\n",
       "      <td>15</td>\n",
       "      <td>U</td>\n",
       "      <td>GT3</td>\n",
       "      <td>T</td>\n",
       "      <td>4</td>\n",
       "      <td>2</td>\n",
       "      <td>health</td>\n",
       "      <td>services</td>\n",
       "      <td>...</td>\n",
       "      <td>3</td>\n",
       "      <td>2</td>\n",
       "      <td>2</td>\n",
       "      <td>1</td>\n",
       "      <td>1</td>\n",
       "      <td>5</td>\n",
       "      <td>2</td>\n",
       "      <td>15</td>\n",
       "      <td>14</td>\n",
       "      <td>15</td>\n",
       "    </tr>\n",
       "    <tr>\n",
       "      <th>4</th>\n",
       "      <td>GP</td>\n",
       "      <td>F</td>\n",
       "      <td>16</td>\n",
       "      <td>U</td>\n",
       "      <td>GT3</td>\n",
       "      <td>T</td>\n",
       "      <td>3</td>\n",
       "      <td>3</td>\n",
       "      <td>other</td>\n",
       "      <td>other</td>\n",
       "      <td>...</td>\n",
       "      <td>4</td>\n",
       "      <td>3</td>\n",
       "      <td>2</td>\n",
       "      <td>1</td>\n",
       "      <td>2</td>\n",
       "      <td>5</td>\n",
       "      <td>4</td>\n",
       "      <td>6</td>\n",
       "      <td>10</td>\n",
       "      <td>10</td>\n",
       "    </tr>\n",
       "  </tbody>\n",
       "</table>\n",
       "<p>5 rows × 33 columns</p>\n",
       "</div>"
      ],
      "text/plain": [
       "  school sex  age address famsize Pstatus  Medu  Fedu     Mjob      Fjob  ...  \\\n",
       "0     GP   F   18       U     GT3       A     4     4  at_home   teacher  ...   \n",
       "1     GP   F   17       U     GT3       T     1     1  at_home     other  ...   \n",
       "2     GP   F   15       U     LE3       T     1     1  at_home     other  ...   \n",
       "3     GP   F   15       U     GT3       T     4     2   health  services  ...   \n",
       "4     GP   F   16       U     GT3       T     3     3    other     other  ...   \n",
       "\n",
       "  famrel freetime  goout  Dalc  Walc health absences  G1  G2  G3  \n",
       "0      4        3      4     1     1      3        6   5   6   6  \n",
       "1      5        3      3     1     1      3        4   5   5   6  \n",
       "2      4        3      2     2     3      3       10   7   8  10  \n",
       "3      3        2      2     1     1      5        2  15  14  15  \n",
       "4      4        3      2     1     2      5        4   6  10  10  \n",
       "\n",
       "[5 rows x 33 columns]"
      ]
     },
     "execution_count": 7,
     "metadata": {},
     "output_type": "execute_result"
    }
   ],
   "source": [
    "import pandas as pd\n",
    "import numpy as np\n",
    "import matplotlib.pyplot as plt\n",
    "\n",
    "df = pd.read_csv('/Users/anantagarwal/Desktop/AI&ML Lab/Lab_2/student+performance/student/student-mat.csv',sep=';') \n",
    "df.head()"
   ]
  },
  {
   "cell_type": "code",
   "execution_count": 20,
   "id": "c9df07f3-e905-4474-b543-a1ec5e5047c6",
   "metadata": {},
   "outputs": [],
   "source": [
    "XY = df.iloc[:, -2:]"
   ]
  },
  {
   "cell_type": "markdown",
   "id": "050cffe5-a8b6-4461-a892-38c6c9e73617",
   "metadata": {},
   "source": [
    "## Ques 2"
   ]
  },
  {
   "cell_type": "code",
   "execution_count": 23,
   "id": "bff4607c-aaa3-4284-acd5-0033b681d9d9",
   "metadata": {},
   "outputs": [
    {
     "name": "stdout",
     "output_type": "stream",
     "text": [
      "Statistical values of XY:\n",
      "               G2          G3\n",
      "count  395.000000  395.000000\n",
      "mean    10.713924   10.415190\n",
      "std      3.761505    4.581443\n",
      "min      0.000000    0.000000\n",
      "25%      9.000000    8.000000\n",
      "50%     11.000000   11.000000\n",
      "75%     13.000000   14.000000\n",
      "max     19.000000   20.000000\n"
     ]
    }
   ],
   "source": [
    "print(\"Statistical values of XY:\")\n",
    "print(XY.describe())"
   ]
  },
  {
   "cell_type": "markdown",
   "id": "18ecdaa9-b9de-4582-8ca2-b4d65ba9edd4",
   "metadata": {},
   "source": [
    "## Ques 3\n"
   ]
  },
  {
   "cell_type": "code",
   "execution_count": 28,
   "id": "80ee25fb-09c2-47eb-bd29-1ac76a09dfa4",
   "metadata": {},
   "outputs": [],
   "source": [
    "X = XY.iloc[:, 0].values.reshape(-1, 1) \n",
    "Y = XY.iloc[:, 1].values.reshape(-1, 1) "
   ]
  },
  {
   "cell_type": "markdown",
   "id": "8e187f54-4b45-4158-bd36-2d43e4cb9749",
   "metadata": {},
   "source": [
    "## Ques 4"
   ]
  },
  {
   "cell_type": "code",
   "execution_count": 31,
   "id": "dee61e7e-2eb2-41ef-b3ae-dd82c5a44189",
   "metadata": {},
   "outputs": [
    {
     "name": "stdout",
     "output_type": "stream",
     "text": [
      "Shape of X: (395, 1)\n",
      "Shape of Y: (395, 1)\n"
     ]
    }
   ],
   "source": [
    "print(f\"Shape of X: {X.shape}\")\n",
    "print(f\"Shape of Y: {Y.shape}\")"
   ]
  },
  {
   "cell_type": "markdown",
   "id": "199e990a-0080-49e8-a51d-9ed2374ee6ed",
   "metadata": {},
   "source": [
    "## Ques 5"
   ]
  },
  {
   "cell_type": "code",
   "execution_count": 34,
   "id": "282158ea-3c2a-4939-9a49-61eb89691845",
   "metadata": {},
   "outputs": [
    {
     "name": "stdout",
     "output_type": "stream",
     "text": [
      "Some rows from XY:\n",
      "   G2  G3\n",
      "0   6   6\n",
      "1   5   6\n",
      "2   8  10\n",
      "3  14  15\n",
      "4  10  10\n"
     ]
    }
   ],
   "source": [
    "print(\"Some rows from XY:\")\n",
    "print(XY.head())"
   ]
  },
  {
   "cell_type": "markdown",
   "id": "f244ca09-62d4-4519-b100-048b921f3a35",
   "metadata": {},
   "source": [
    "## Ques 6"
   ]
  },
  {
   "cell_type": "code",
   "execution_count": 39,
   "id": "5c133d5d-1134-4f9f-92c4-41b2c9df01c8",
   "metadata": {},
   "outputs": [],
   "source": [
    "def linear_regression(X, Y):\n",
    "    # X is independent variable, Y is dependent variable\n",
    "    n = len(X)\n",
    "    \n",
    "    # Calculate mean of X and Y\n",
    "    mean_X = np.mean(X)\n",
    "    mean_Y = np.mean(Y)\n",
    "    \n",
    "    # Calculate the cross-deviation and deviation about X\n",
    "    SS_xy = np.sum(Y * X) - n * mean_Y * mean_X\n",
    "    SS_xx = np.sum(X * X) - n * mean_X * mean_X\n",
    "    \n",
    "    # Calculate regression coefficients\n",
    "    m = SS_xy / SS_xx\n",
    "    c = mean_Y - m * mean_X\n",
    "    \n",
    "    return m, c\n"
   ]
  },
  {
   "cell_type": "code",
   "execution_count": 41,
   "id": "dac186e9-562e-47a4-ae36-db75169aed20",
   "metadata": {},
   "outputs": [],
   "source": [
    "m, c = linear_regression(X, Y)"
   ]
  },
  {
   "cell_type": "code",
   "execution_count": 43,
   "id": "516f8ccc-dd0f-44c3-9a15-ea6a30fbe311",
   "metadata": {},
   "outputs": [
    {
     "name": "stdout",
     "output_type": "stream",
     "text": [
      "Coefficient (m): 1.1021123562440616\n",
      "Intercept (c): -1.3927582066452366\n"
     ]
    }
   ],
   "source": [
    "print(f\"Coefficient (m): {m}\")\n",
    "print(f\"Intercept (c): {c}\")"
   ]
  },
  {
   "cell_type": "code",
   "execution_count": 45,
   "id": "7a65871d-ac7f-4f57-8c07-c615fc1e6961",
   "metadata": {},
   "outputs": [],
   "source": [
    "Y_predicted = m * X + c"
   ]
  },
  {
   "cell_type": "code",
   "execution_count": 47,
   "id": "80c7b00c-2593-4893-a230-72896c5e4642",
   "metadata": {},
   "outputs": [],
   "source": [
    "def mean_squared_error(Y, Y_predicted):\n",
    "    return np.mean((Y - Y_predicted) ** 2)"
   ]
  },
  {
   "cell_type": "code",
   "execution_count": 49,
   "id": "cb4630b9-0d69-483f-b680-e22841039564",
   "metadata": {},
   "outputs": [
    {
     "name": "stdout",
     "output_type": "stream",
     "text": [
      "Mean Squared Error: 3.7939813144442645\n"
     ]
    }
   ],
   "source": [
    "mse = mean_squared_error(Y, Y_predicted)\n",
    "print(f\"Mean Squared Error: {mse}\")"
   ]
  },
  {
   "cell_type": "code",
   "execution_count": 51,
   "id": "0cb3deaa-7ce6-4f8a-b7e1-469d8b983f0e",
   "metadata": {},
   "outputs": [],
   "source": [
    "def root_mean_squared_error(Y, Y_predicted):\n",
    "    return np.sqrt(mean_squared_error(Y, Y_predicted))"
   ]
  },
  {
   "cell_type": "code",
   "execution_count": 53,
   "id": "98878731-e79e-4a73-a6f7-33f2933ccb30",
   "metadata": {},
   "outputs": [
    {
     "name": "stdout",
     "output_type": "stream",
     "text": [
      "Root Mean Squared Error: 1.947814496928356\n"
     ]
    }
   ],
   "source": [
    "rmse = root_mean_squared_error(Y, Y_predicted)\n",
    "print(f\"Root Mean Squared Error: {rmse}\")"
   ]
  },
  {
   "cell_type": "code",
   "execution_count": 55,
   "id": "7922eef4-d9fa-4f9f-8782-f5320baee8a2",
   "metadata": {},
   "outputs": [
    {
     "data": {
      "image/png": "[encoded data removed]",
      "text/plain": [
       "<Figure size 640x480 with 1 Axes>"
      ]
     },
     "metadata": {},
     "output_type": "display_data"
    }
   ],
   "source": [
    "plt.scatter(X, Y, color='blue', label='Actual data points')\n",
    "plt.plot(X, Y_predicted, color='red', label='Regression line')\n",
    "plt.xlabel('G2')\n",
    "plt.ylabel('G3')\n",
    "plt.title('Linear Regression')\n",
    "plt.legend()\n",
    "plt.show()"
   ]
  },
  {
   "cell_type": "code",
   "execution_count": 57,
   "id": "f3db4e56-ad63-4373-b4cc-a0b5f01a43e8",
   "metadata": {},
   "outputs": [
    {
     "name": "stdout",
     "output_type": "stream",
     "text": [
      "Predicted G3 for random G2 values [15 20 30]: [15.13892714 20.64948892 31.67061248]\n"
     ]
    }
   ],
   "source": [
    "random_G2 = np.array([15, 20, 30]).reshape(-1, 1)\n",
    "predicted_G3 = m * random_G2 + c\n",
    "print(f\"Predicted G3 for random G2 values {random_G2.flatten()}: {predicted_G3.flatten()}\")"
   ]
  }
 ],
 "metadata": {
  "kernelspec": {
   "display_name": "Python 3 (ipykernel)",
   "language": "python",
   "name": "python3"
  },
  "language_info": {
   "codemirror_mode": {
    "name": "ipython",
    "version": 3
   },
   "file_extension": ".py",
   "mimetype": "text/x-python",
   "name": "python",
   "nbconvert_exporter": "python",
   "pygments_lexer": "ipython3",
   "version": "3.12.4"
  }
 },
 "nbformat": 4,
 "nbformat_minor": 5
}
